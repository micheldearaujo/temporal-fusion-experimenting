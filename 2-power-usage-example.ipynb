{
 "cells": [
  {
   "cell_type": "markdown",
   "metadata": {
    "application/vnd.databricks.v1+cell": {
     "cellMetadata": {
      "byteLimit": 2048000,
      "rowLimit": 10000
     },
     "inputWidgets": {},
     "nuid": "9c389a6f-04a7-4423-a4b6-d0c378fdbbfe",
     "showTitle": false,
     "title": ""
    }
   },
   "source": [
    "## Temporal Fusion Transformer: Time Series Forecasting with Deep Learning — Complete Tutorial\n",
    "### Powe Usage real example"
   ]
  },
  {
   "cell_type": "code",
   "execution_count": 0,
   "metadata": {
    "application/vnd.databricks.v1+cell": {
     "cellMetadata": {
      "byteLimit": 2048000,
      "rowLimit": 10000
     },
     "inputWidgets": {},
     "nuid": "d455019c-7ce0-4ae5-9ffb-982fdeba2401",
     "showTitle": false,
     "title": ""
    }
   },
   "outputs": [],
   "source": [
    "import numpy as np\n",
    "import pandas as pd\n",
    "from pytorch_forecasting import TimeSeriesDataSet, GroupNormalizer\n",
    "import seaborn as sns"
   ]
  },
  {
   "cell_type": "markdown",
   "metadata": {
    "application/vnd.databricks.v1+cell": {
     "cellMetadata": {
      "byteLimit": 2048000,
      "rowLimit": 10000
     },
     "inputWidgets": {},
     "nuid": "b643d26c-ccb8-47c6-8346-550ff8d90b38",
     "showTitle": false,
     "title": ""
    }
   },
   "source": [
    "### 1.0 Download the dataset"
   ]
  },
  {
   "cell_type": "code",
   "execution_count": 0,
   "metadata": {
    "application/vnd.databricks.v1+cell": {
     "cellMetadata": {
      "byteLimit": 2048000,
      "rowLimit": 10000
     },
     "inputWidgets": {},
     "nuid": "e78f13b4-5b28-4f7e-a2fc-6233f3b1c829",
     "showTitle": false,
     "title": ""
    }
   },
   "outputs": [],
   "source": [
    "data = pd.read_csv(\"hourly_power_usage (1).csv\", sep=',', parse_dates=['Unnamed: 0'])\n",
    "data = data.rename(columns={\"Unnamed: 0\": \"data\"})"
   ]
  },
  {
   "cell_type": "code",
   "execution_count": 0,
   "metadata": {
    "application/vnd.databricks.v1+cell": {
     "cellMetadata": {
      "byteLimit": 2048000,
      "rowLimit": 10000
     },
     "inputWidgets": {},
     "nuid": "80e703e1-c81b-4838-9091-7a75d661f775",
     "showTitle": false,
     "title": ""
    }
   },
   "outputs": [],
   "source": [
    "data.info()"
   ]
  },
  {
   "cell_type": "code",
   "execution_count": 0,
   "metadata": {
    "application/vnd.databricks.v1+cell": {
     "cellMetadata": {
      "byteLimit": 2048000,
      "rowLimit": 10000
     },
     "inputWidgets": {},
     "nuid": "daf90f8e-9134-4b52-8b36-682e65954151",
     "showTitle": false,
     "title": ""
    }
   },
   "outputs": [],
   "source": [
    "data = data.set_index(\"data\")"
   ]
  },
  {
   "cell_type": "code",
   "execution_count": 0,
   "metadata": {
    "application/vnd.databricks.v1+cell": {
     "cellMetadata": {
      "byteLimit": 2048000,
      "rowLimit": 10000
     },
     "inputWidgets": {},
     "nuid": "95653e29-c1d1-45f2-95cd-0714e02b5af1",
     "showTitle": false,
     "title": ""
    }
   },
   "outputs": [],
   "source": [
    "df = data.copy()"
   ]
  },
  {
   "cell_type": "code",
   "execution_count": 0,
   "metadata": {
    "application/vnd.databricks.v1+cell": {
     "cellMetadata": {
      "byteLimit": 2048000,
      "rowLimit": 10000
     },
     "inputWidgets": {},
     "nuid": "ad37a73f-7850-4980-8883-fce9bae68aab",
     "showTitle": false,
     "title": ""
    }
   },
   "outputs": [],
   "source": [
    "# Pega a data mínima\n",
    "earliest_time = data.index.min()"
   ]
  },
  {
   "cell_type": "code",
   "execution_count": 0,
   "metadata": {
    "application/vnd.databricks.v1+cell": {
     "cellMetadata": {
      "byteLimit": 2048000,
      "rowLimit": 10000
     },
     "inputWidgets": {},
     "nuid": "ea8dcd1c-0e1d-4dcc-8564-e999876c97f0",
     "showTitle": false,
     "title": ""
    }
   },
   "outputs": [],
   "source": [
    "earliest_time"
   ]
  },
  {
   "cell_type": "code",
   "execution_count": 0,
   "metadata": {
    "application/vnd.databricks.v1+cell": {
     "cellMetadata": {
      "byteLimit": 2048000,
      "rowLimit": 10000
     },
     "inputWidgets": {},
     "nuid": "8243331f-9535-485f-94b3-c4a69dff3857",
     "showTitle": false,
     "title": ""
    }
   },
   "outputs": [],
   "source": [
    "# Pega a data mínima\n",
    "max_date = data.index.max()"
   ]
  },
  {
   "cell_type": "code",
   "execution_count": 0,
   "metadata": {
    "application/vnd.databricks.v1+cell": {
     "cellMetadata": {
      "byteLimit": 2048000,
      "rowLimit": 10000
     },
     "inputWidgets": {},
     "nuid": "bcd05768-4ddf-4fad-9a08-4243756d5114",
     "showTitle": false,
     "title": ""
    }
   },
   "outputs": [],
   "source": [
    "max_date"
   ]
  },
  {
   "cell_type": "code",
   "execution_count": 0,
   "metadata": {
    "application/vnd.databricks.v1+cell": {
     "cellMetadata": {
      "byteLimit": 2048000,
      "rowLimit": 10000
     },
     "inputWidgets": {},
     "nuid": "164bca23-902d-44bf-8c41-c92743487f6b",
     "showTitle": false,
     "title": ""
    }
   },
   "outputs": [],
   "source": [
    "df_list = []\n",
    "\n",
    "for label in df:\n",
    "\n",
    "    ts = df[label]\n",
    "\n",
    "    start_date = min(ts.fillna(method='ffill').dropna().index)\n",
    "    end_date = max(ts.fillna(method='bfill').dropna().index)\n",
    "\n",
    "    active_range = (ts.index >= start_date) & (ts.index <= end_date)\n",
    "    ts = ts[active_range].fillna(0.)\n",
    "\n",
    "    tmp = pd.DataFrame({'power_usage': ts})\n",
    "    date = tmp.index\n",
    "\n",
    "    tmp['hours_from_start'] = (date - earliest_time).seconds / 60 / 60 + (date - earliest_time).days * 24\n",
    "    tmp['hours_from_start'] = tmp['hours_from_start'].astype('int')\n",
    "  \n",
    "    tmp['days_from_start'] = (date - earliest_time).days\n",
    "    tmp['date'] = date\n",
    "    tmp['consumer_id'] = label\n",
    "    tmp['hour'] = date.hour\n",
    "    tmp['day'] = date.day\n",
    "    tmp['day_of_week'] = date.dayofweek\n",
    "    tmp['month'] = date.month\n",
    "\n",
    "    #stack all time series vertically\n",
    "    df_list.append(tmp)\n",
    "\n",
    "time_df = pd.concat(df_list).reset_index(drop=True)\n",
    "\n",
    "# match results in the original paper\n",
    "time_df = time_df[(time_df['days_from_start'] >= 1096)\n",
    "                & (time_df['days_from_start'] < 1346)].copy()"
   ]
  },
  {
   "cell_type": "code",
   "execution_count": 0,
   "metadata": {
    "application/vnd.databricks.v1+cell": {
     "cellMetadata": {
      "byteLimit": 2048000,
      "rowLimit": 10000
     },
     "inputWidgets": {},
     "nuid": "77e53414-49fb-4026-8ca0-796791118936",
     "showTitle": false,
     "title": ""
    }
   },
   "outputs": [],
   "source": [
    "time_df = time_df[time_df['date'] > pd.to_datetime('2014-04-01')]"
   ]
  },
  {
   "cell_type": "code",
   "execution_count": 0,
   "metadata": {
    "application/vnd.databricks.v1+cell": {
     "cellMetadata": {
      "byteLimit": 2048000,
      "rowLimit": 10000
     },
     "inputWidgets": {},
     "nuid": "71db4470-a56d-4447-91a8-62b2380fcf0d",
     "showTitle": false,
     "title": ""
    }
   },
   "outputs": [],
   "source": [
    "time_df"
   ]
  },
  {
   "cell_type": "markdown",
   "metadata": {
    "application/vnd.databricks.v1+cell": {
     "cellMetadata": {
      "byteLimit": 2048000,
      "rowLimit": 10000
     },
     "inputWidgets": {},
     "nuid": "fe1eebf6-af91-4b78-9f58-1b15e7862f38",
     "showTitle": false,
     "title": ""
    }
   },
   "source": [
    "### EDA"
   ]
  },
  {
   "cell_type": "code",
   "execution_count": 0,
   "metadata": {
    "application/vnd.databricks.v1+cell": {
     "cellMetadata": {
      "byteLimit": 2048000,
      "rowLimit": 10000
     },
     "inputWidgets": {},
     "nuid": "d1610400-e997-4711-8fb8-811506c6c413",
     "showTitle": false,
     "title": ""
    }
   },
   "outputs": [],
   "source": [
    "time_df[[\"consumer_id\", \"power_usage\"]].groupby(\"consumer_id\").mean()"
   ]
  },
  {
   "cell_type": "code",
   "execution_count": 0,
   "metadata": {
    "application/vnd.databricks.v1+cell": {
     "cellMetadata": {
      "byteLimit": 2048000,
      "rowLimit": 10000
     },
     "inputWidgets": {},
     "nuid": "5531f365-5754-4516-92b3-7a71c8dd23d7",
     "showTitle": false,
     "title": ""
    }
   },
   "outputs": [],
   "source": [
    "import matplotlib.pyplot as plt\n",
    "fig,axs = plt.subplots(figsize=(12, 8))\n",
    "sns.lineplot(\n",
    "    data=time_df[time_df['date'] <= pd.to_datetime('2014-06-01')],\n",
    "    x=\"date\",\n",
    "    y=\"power_usage\",\n",
    "    hue='consumer_id',\n",
    "    ax=axs\n",
    ")\n",
    "plt.show()"
   ]
  },
  {
   "cell_type": "markdown",
   "metadata": {
    "application/vnd.databricks.v1+cell": {
     "cellMetadata": {
      "byteLimit": 2048000,
      "rowLimit": 10000
     },
     "inputWidgets": {},
     "nuid": "570f009c-5f22-4b83-9efb-f5f31dd3936d",
     "showTitle": false,
     "title": ""
    }
   },
   "source": [
    "### Modelando"
   ]
  },
  {
   "cell_type": "code",
   "execution_count": 0,
   "metadata": {
    "application/vnd.databricks.v1+cell": {
     "cellMetadata": {
      "byteLimit": 2048000,
      "rowLimit": 10000
     },
     "inputWidgets": {},
     "nuid": "0c447d80-cae2-4235-9f74-3206b29c8e01",
     "showTitle": false,
     "title": ""
    }
   },
   "outputs": [],
   "source": [
    "#Hyperparameters\n",
    "#batch size=64\n",
    "#number heads=4, hidden sizes=160, lr=0.001, gr_clip=0.1\n",
    "\n",
    "max_prediction_length = 24\n",
    "max_encoder_length = 7*24\n",
    "training_cutoff = time_df[\"hours_from_start\"].max() - max_prediction_length\n"
   ]
  },
  {
   "cell_type": "code",
   "execution_count": 0,
   "metadata": {
    "application/vnd.databricks.v1+cell": {
     "cellMetadata": {
      "byteLimit": 2048000,
      "rowLimit": 10000
     },
     "inputWidgets": {},
     "nuid": "86d68d4d-18b6-4ffa-8f58-11d232fbe914",
     "showTitle": false,
     "title": ""
    }
   },
   "outputs": [],
   "source": [
    "training = TimeSeriesDataSet(\n",
    "    time_df[lambda x: x.hours_from_start <= training_cutoff],\n",
    "    time_idx=\"hours_from_start\",\n",
    "    target=\"power_usage\",\n",
    "    group_ids=[\"consumer_id\"],\n",
    "    min_encoder_length=max_encoder_length // 2, \n",
    "    max_encoder_length=max_encoder_length,\n",
    "    min_prediction_length=1,\n",
    "    max_prediction_length=max_prediction_length,\n",
    "    static_categoricals=[\"consumer_id\"],\n",
    "    time_varying_known_reals=[\"hours_from_start\",\"day\",\"day_of_week\", \"month\", 'hour'],\n",
    "    time_varying_unknown_reals=['power_usage'],\n",
    "    target_normalizer=GroupNormalizer(\n",
    "        groups=[\"consumer_id\"], transformation=\"softplus\"\n",
    "    ),  # we normalize by group\n",
    "    add_relative_time_idx=True,\n",
    "    add_target_scales=True,\n",
    "    add_encoder_length=True,\n",
    ")"
   ]
  },
  {
   "cell_type": "code",
   "execution_count": 0,
   "metadata": {
    "application/vnd.databricks.v1+cell": {
     "cellMetadata": {
      "byteLimit": 2048000,
      "rowLimit": 10000
     },
     "inputWidgets": {},
     "nuid": "bfe9224c-28b2-42e0-9748-3eca74289a4b",
     "showTitle": false,
     "title": ""
    }
   },
   "outputs": [],
   "source": [
    "validation = TimeSeriesDataSet.from_dataset(training, time_df, predict=True, stop_randomization=True)\n",
    "\n",
    "# create dataloaders for  our model\n",
    "batch_size = 64 \n",
    "# if you have a strong GPU, feel free to increase the number of workers  \n",
    "train_dataloader = training.to_dataloader(train=True, batch_size=batch_size, num_workers=0)\n",
    "val_dataloader = validation.to_dataloader(train=False, batch_size=batch_size * 10, num_workers=0)\n"
   ]
  },
  {
   "cell_type": "code",
   "execution_count": 0,
   "metadata": {
    "application/vnd.databricks.v1+cell": {
     "cellMetadata": {
      "byteLimit": 2048000,
      "rowLimit": 10000
     },
     "inputWidgets": {},
     "nuid": "e58b2530-4fb5-4a3e-85a2-ce93298b9546",
     "showTitle": false,
     "title": ""
    }
   },
   "outputs": [],
   "source": [
    "import torch\n",
    "import pytorch_forecasting.models.baseline as bs "
   ]
  },
  {
   "cell_type": "code",
   "execution_count": 0,
   "metadata": {
    "application/vnd.databricks.v1+cell": {
     "cellMetadata": {
      "byteLimit": 2048000,
      "rowLimit": 10000
     },
     "inputWidgets": {},
     "nuid": "552ac74c-c8f1-43a1-95a8-dc4ff90ed896",
     "showTitle": false,
     "title": ""
    }
   },
   "outputs": [],
   "source": [
    "actuals = torch.cat([y for x, (y, weight) in iter(val_dataloader)])\n",
    "baseline_predictions = bs.Baseline().predict(val_dataloader)\n",
    "(actuals - baseline_predictions).abs().mean().item()"
   ]
  },
  {
   "cell_type": "code",
   "execution_count": 0,
   "metadata": {
    "application/vnd.databricks.v1+cell": {
     "cellMetadata": {
      "byteLimit": 2048000,
      "rowLimit": 10000
     },
     "inputWidgets": {},
     "nuid": "f790df31-c89a-4dca-b057-da34154c1a0e",
     "showTitle": false,
     "title": ""
    }
   },
   "outputs": [],
   "source": [
    "from lightning.pytorch.callbacks.early_stopping import EarlyStopping\n",
    "from lightning.pytorch.callbacks import LearningRateMonitor\n",
    "from lightning.pytorch.loggers import TensorBoardLogger\n",
    "from lightning.pytorch import Trainer\n",
    "\n",
    "from pytorch_forecasting.models.temporal_fusion_transformer import TemporalFusionTransformer\n",
    "from pytorch_forecasting.metrics.quantile import QuantileLoss"
   ]
  },
  {
   "cell_type": "code",
   "execution_count": 0,
   "metadata": {
    "application/vnd.databricks.v1+cell": {
     "cellMetadata": {
      "byteLimit": 2048000,
      "rowLimit": 10000
     },
     "inputWidgets": {},
     "nuid": "08b67e3f-f60f-486e-b35b-7abe6f821316",
     "showTitle": false,
     "title": ""
    }
   },
   "outputs": [],
   "source": [
    "early_stop_callback = EarlyStopping(monitor=\"val_loss\", min_delta=1e-4, patience=5, verbose=True, mode=\"min\")\n",
    "lr_logger = LearningRateMonitor()  \n",
    "logger = TensorBoardLogger(\"lightning_logs\")  \n",
    "\n",
    "trainer = Trainer(\n",
    "    max_epochs=45,\n",
    "    accelerator='cpu', \n",
    "    devices=8,\n",
    "    enable_model_summary=True,\n",
    "    gradient_clip_val=0.1,\n",
    "    callbacks=[lr_logger, early_stop_callback],\n",
    "    logger=logger)\n",
    "\n",
    "tft = TemporalFusionTransformer.from_dataset(\n",
    "    training,\n",
    "    learning_rate=0.001,\n",
    "    hidden_size=160,\n",
    "    attention_head_size=4,\n",
    "    dropout=0.1,\n",
    "    hidden_continuous_size=160,\n",
    "    output_size=7,  # there are 7 quantiles by default: [0.02, 0.1, 0.25, 0.5, 0.75, 0.9, 0.98]\n",
    "    loss=QuantileLoss(),\n",
    "    log_interval=10, \n",
    "    reduce_on_plateau_patience=4)\n",
    "\n",
    "trainer.fit(\n",
    "    tft,\n",
    "    train_dataloaders=train_dataloader,\n",
    "    val_dataloaders=val_dataloader)"
   ]
  },
  {
   "cell_type": "code",
   "execution_count": 0,
   "metadata": {
    "application/vnd.databricks.v1+cell": {
     "cellMetadata": {
      "byteLimit": 2048000,
      "rowLimit": 10000
     },
     "inputWidgets": {},
     "nuid": "55a6cd2f-103d-4698-911f-0bd3f963f832",
     "showTitle": false,
     "title": ""
    }
   },
   "outputs": [],
   "source": [
    "python.__version__"
   ]
  },
  {
   "cell_type": "code",
   "execution_count": 0,
   "metadata": {
    "application/vnd.databricks.v1+cell": {
     "cellMetadata": {
      "byteLimit": 2048000,
      "rowLimit": 10000
     },
     "inputWidgets": {},
     "nuid": "86f98919-4ee9-47a9-a49b-9054fe9626d4",
     "showTitle": false,
     "title": ""
    }
   },
   "outputs": [],
   "source": [
    "best_model_path = trainer.checkpoint_callback.best_model_path\n",
    "print(best_model_path)\n",
    "best_tft = TemporalFusionTransformer.load_from_checkpoint(best_model_path)"
   ]
  },
  {
   "cell_type": "code",
   "execution_count": 0,
   "metadata": {
    "application/vnd.databricks.v1+cell": {
     "cellMetadata": {
      "byteLimit": 2048000,
      "rowLimit": 10000
     },
     "inputWidgets": {},
     "nuid": "6fc97ccc-6d31-441d-91fa-002f2b33bfa5",
     "showTitle": false,
     "title": ""
    }
   },
   "outputs": [],
   "source": [
    "%load_ext tensorboard\n",
    "%tensorboard - logdir lightning_logs"
   ]
  },
  {
   "cell_type": "code",
   "execution_count": 0,
   "metadata": {
    "application/vnd.databricks.v1+cell": {
     "cellMetadata": {
      "byteLimit": 2048000,
      "rowLimit": 10000
     },
     "inputWidgets": {},
     "nuid": "3d4de7d9-3dc3-4e15-b910-db4f15c08bd0",
     "showTitle": false,
     "title": ""
    }
   },
   "outputs": [],
   "source": [
    "actuals = torch.cat([y[0] for x, y in iter(val_dataloader)])\n",
    "predictions = best_tft.predict(val_dataloader)\n",
    "\n",
    "#average p50 loss overall\n",
    "print((actuals - predictions).abs().mean().item())\n",
    "#average p50 loss per time series\n",
    "print((actuals - predictions).abs().mean(axis=1))\n",
    "\n",
    "#6.067104816436768\n",
    "#tensor([ 1.0064,  6.8266,  2.1732,  8.3614, 11.9679], device='cuda:0')"
   ]
  },
  {
   "cell_type": "code",
   "execution_count": 0,
   "metadata": {
    "application/vnd.databricks.v1+cell": {
     "cellMetadata": {
      "byteLimit": 2048000,
      "rowLimit": 10000
     },
     "inputWidgets": {},
     "nuid": "1b367bfb-6d20-4b1b-9fbe-099e24b97876",
     "showTitle": false,
     "title": ""
    }
   },
   "outputs": [],
   "source": [
    "#Take a look at what the raw_predictions variable contains\n",
    "\n",
    "raw_predictions = best_tft.predict(val_dataloader, mode=\"raw\", return_x=True)\n",
    "print(raw_predictions._fields)\n",
    "#('output', 'x', 'index', 'decoder_lengths', 'y')\n",
    "\n",
    "print('\\n')\n",
    "print(raw_predictions.output._fields)\n",
    "# ('prediction',\n",
    "# 'encoder_attention',\n",
    "# 'decoder_attention',\n",
    "# 'static_variables',\n",
    "# 'encoder_variables',\n",
    "# 'decoder_variables',\n",
    "# 'decoder_lengths',\n",
    "# 'encoder_lengths')\n",
    "\n",
    "print('\\n')\n",
    "print(raw_predictions.output.prediction.shape)"
   ]
  },
  {
   "cell_type": "code",
   "execution_count": 0,
   "metadata": {
    "application/vnd.databricks.v1+cell": {
     "cellMetadata": {
      "byteLimit": 2048000,
      "rowLimit": 10000
     },
     "inputWidgets": {},
     "nuid": "5280ab17-e12f-4920-a34b-08b9d56da82e",
     "showTitle": false,
     "title": ""
    }
   },
   "outputs": [],
   "source": [
    "for idx in range(5):  # plot all 5 consumers\n",
    "    fig, ax = plt.subplots(figsize=(10, 4))\n",
    "    best_tft.plot_prediction(raw_predictions.x, raw_predictions.output, idx=idx, add_loss_to_title=QuantileLoss(),ax=ax)\n"
   ]
  },
  {
   "cell_type": "code",
   "execution_count": 0,
   "metadata": {
    "application/vnd.databricks.v1+cell": {
     "cellMetadata": {
      "byteLimit": 2048000,
      "rowLimit": 10000
     },
     "inputWidgets": {},
     "nuid": "bede6bcc-ea27-429c-a4b5-66a011b74df2",
     "showTitle": false,
     "title": ""
    }
   },
   "outputs": [],
   "source": []
  }
 ],
 "metadata": {
  "application/vnd.databricks.v1+notebook": {
   "dashboards": [],
   "language": "python",
   "notebookMetadata": {
    "pythonIndentUnit": 4
   },
   "notebookName": "2-power-usage-example",
   "widgets": {}
  },
  "kernelspec": {
   "display_name": "tft",
   "language": "python",
   "name": "python3"
  },
  "language_info": {
   "codemirror_mode": {
    "name": "ipython",
    "version": 3
   },
   "file_extension": ".py",
   "mimetype": "text/x-python",
   "name": "python",
   "nbconvert_exporter": "python",
   "pygments_lexer": "ipython3",
   "version": "3.10.11"
  },
  "orig_nbformat": 4
 },
 "nbformat": 4,
 "nbformat_minor": 0
}
